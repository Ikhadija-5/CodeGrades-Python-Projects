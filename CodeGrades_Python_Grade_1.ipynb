{
  "cells": [
    {
      "cell_type": "markdown",
      "metadata": {
        "id": "view-in-github",
        "colab_type": "text"
      },
      "source": [
        "<a href=\"https://colab.research.google.com/github/Ikhadija-5/CodeGrades-Python-Projects/blob/main/CodeGrades_Python_Grade_1.ipynb\" target=\"_parent\"><img src=\"https://colab.research.google.com/assets/colab-badge.svg\" alt=\"Open In Colab\"/></a>"
      ]
    },
    {
      "cell_type": "code",
      "source": [
        "import gradio as gr\n",
        "\n",
        "\n",
        "\n",
        "def Roman_To_Integer(Roman_number):\n",
        "    \"\"\"\n",
        "    :type Roman_number: str\n",
        "    :rtype: int\n",
        "    \"\"\"\n",
        "\n",
        "    #initialising our output\n",
        "    result = 0\n",
        "\n",
        "    \"\"\"\n",
        "    Given a roman numeral which is a string, we want to split this string into individual \n",
        "    letters and save it into a list to enable us loop through a given roman numeral\n",
        "    \"\"\"\n",
        "    list_elements = [element for element in Roman_number]\n",
        "\n",
        "    #We save all known roman symbols with their corresponding integers in a dictionary \n",
        "    dict_rom = {'I':1,'V':5,'X':10,'L':50,'C':100,'D':500,'M':1000} \n",
        "\n",
        "    #initialise j to 0 for comaprism of numerals\n",
        "    j = 0\n",
        "\n",
        "    #We loop through the indexes of the roman numeral which has been converted into a list\n",
        "    for i in range(len(list_elements)-1):\n",
        "        j = i+1\n",
        "    \n",
        "        \"\"\"\n",
        "        For roman numerals with more than one character, we compared the first and second character\n",
        "        if the first is greater than next, the resulting integer is added by the first then \n",
        "        retrieved from the dictionary and added  to the initial result, we compare and add till \n",
        "        the final symbol in the roman numeral\n",
        "\n",
        "        \"\"\"\n",
        "        if dict_rom[list_elements[i]]>= dict_rom[list_elements[j]]:\n",
        "            result += dict_rom[list_elements[i]]\n",
        "            \n",
        "            \"\"\"\n",
        "            otherwise if the first is lesser than the next, we subtract 1 from the result and add\n",
        "            the next element, for example, for IV, we subtact 1 from 0, and add 5 giving us 4\n",
        "\n",
        "            \"\"\"\n",
        "\n",
        "        elif dict_rom[list_elements[i]]<dict_rom[list_elements[j]]: \n",
        "            result -= dict_rom[list_elements[i]]\n",
        "    result += dict_rom[list_elements[j]]  \n",
        "    return result\n",
        "\n",
        "\n",
        "#We provided a web interface demo with gradio\n",
        "demo = gr.Interface(fn=Roman_To_Integer, inputs=\"text\", outputs=\"text\")\n",
        "\n",
        "#To launch the demo\n",
        "demo.launch() "
      ],
      "metadata": {
        "colab": {
          "base_uri": "https://localhost:8080/",
          "height": 614
        },
        "id": "GzBYWgzAC7J_",
        "outputId": "7e85f3ca-0f30-4821-9d45-49fc19623574"
      },
      "execution_count": 25,
      "outputs": [
        {
          "output_type": "stream",
          "name": "stdout",
          "text": [
            "Colab notebook detected. To show errors in colab notebook, set `debug=True` in `launch()`\n",
            "Note: opening Chrome Inspector may crash demo inside Colab notebooks.\n",
            "\n",
            "To create a public link, set `share=True` in `launch()`.\n"
          ]
        },
        {
          "output_type": "display_data",
          "data": {
            "text/plain": [
              "<IPython.core.display.Javascript object>"
            ],
            "application/javascript": [
              "(async (port, path, width, height, cache, element) => {\n",
              "                        if (!google.colab.kernel.accessAllowed && !cache) {\n",
              "                            return;\n",
              "                        }\n",
              "                        element.appendChild(document.createTextNode(''));\n",
              "                        const url = await google.colab.kernel.proxyPort(port, {cache});\n",
              "\n",
              "                        const external_link = document.createElement('div');\n",
              "                        external_link.innerHTML = `\n",
              "                            <div style=\"font-family: monospace; margin-bottom: 0.5rem\">\n",
              "                                Running on <a href=${new URL(path, url).toString()} target=\"_blank\">\n",
              "                                    https://localhost:${port}${path}\n",
              "                                </a>\n",
              "                            </div>\n",
              "                        `;\n",
              "                        element.appendChild(external_link);\n",
              "\n",
              "                        const iframe = document.createElement('iframe');\n",
              "                        iframe.src = new URL(path, url).toString();\n",
              "                        iframe.height = height;\n",
              "                        iframe.allow = \"autoplay; camera; microphone; clipboard-read; clipboard-write;\"\n",
              "                        iframe.width = width;\n",
              "                        iframe.style.border = 0;\n",
              "                        element.appendChild(iframe);\n",
              "                    })(7866, \"/\", \"100%\", 500, false, window.element)"
            ]
          },
          "metadata": {}
        },
        {
          "output_type": "execute_result",
          "data": {
            "text/plain": []
          },
          "metadata": {},
          "execution_count": 25
        }
      ]
    },
    {
      "cell_type": "code",
      "source": [],
      "metadata": {
        "id": "YjkWMFaJIxuX"
      },
      "execution_count": null,
      "outputs": []
    }
  ],
  "metadata": {
    "colab": {
      "provenance": [],
      "authorship_tag": "ABX9TyNjMeIkF5anTgi0MkrvWHa/",
      "include_colab_link": true
    },
    "kernelspec": {
      "display_name": "Python 3",
      "name": "python3"
    },
    "language_info": {
      "name": "python"
    }
  },
  "nbformat": 4,
  "nbformat_minor": 0
}